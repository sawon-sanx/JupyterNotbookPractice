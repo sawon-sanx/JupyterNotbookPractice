{
 "cells": [
  {
   "cell_type": "markdown",
   "id": "1aac54f6-5473-4b0d-a7f7-ca1d9eb74ea7",
   "metadata": {},
   "source": [
    "# Data Science Tools and Ecosystem"
   ]
  },
  {
   "cell_type": "markdown",
   "id": "ceb86896-9125-42ae-9b3a-c787732771f4",
   "metadata": {},
   "source": [
    "In this Notebook, Data Science Tools and Ecosystem are summarized."
   ]
  },
  {
   "cell_type": "markdown",
   "id": "2ab33ffe-4601-4bb7-8c84-7c4ae4fa62c3",
   "metadata": {},
   "source": [
    "Some of the popular languages that Data Scientists use are:\n",
    "1. Python\n",
    "2. R\n",
    "3. SQL (Structured Query Language)"
   ]
  },
  {
   "cell_type": "markdown",
   "id": "b7562a2a-3adc-4c16-83bc-b4f88a05ffae",
   "metadata": {},
   "source": [
    "Some of the commonly used libraries used by Data Scientists include:\n",
    "1. Pandas\n",
    "2. Numpy\n",
    "3. Scikit-learn"
   ]
  },
  {
   "cell_type": "markdown",
   "id": "e3a23e81-8c58-49f1-89c0-23351039724c",
   "metadata": {},
   "source": [
    "| Data Science Tools     |\n",
    "|----------------------- |\n",
    "| Jupyter Notebook       |\n",
    "| RStudio             |\n",
    "| Visual Studio Code (VS Code) |\n"
   ]
  },
  {
   "cell_type": "markdown",
   "id": "fbc8c736-bec2-4baf-af6e-1a77c51bc231",
   "metadata": {},
   "source": [
    "### Below are a few examples of evaluating arithmetic expressions in Python"
   ]
  },
  {
   "cell_type": "code",
   "execution_count": 1,
   "id": "8eeba18b-8d45-44c3-a1a9-135085b62a78",
   "metadata": {
    "tags": []
   },
   "outputs": [
    {
     "data": {
      "text/plain": [
       "17"
      ]
     },
     "execution_count": 1,
     "metadata": {},
     "output_type": "execute_result"
    }
   ],
   "source": [
    "(3*4)+5"
   ]
  },
  {
   "cell_type": "code",
   "execution_count": 2,
   "id": "b0def77f-59a6-4c91-b86f-4ec2742a3904",
   "metadata": {
    "tags": []
   },
   "outputs": [
    {
     "data": {
      "text/plain": [
       "3.3333333333333335"
      ]
     },
     "execution_count": 2,
     "metadata": {},
     "output_type": "execute_result"
    }
   ],
   "source": [
    "200/60"
   ]
  },
  {
   "cell_type": "markdown",
   "id": "5f31f19c-9a19-455d-88ae-4feff3cd8ea2",
   "metadata": {},
   "source": [
    "**Objectives:**\n",
    "\n",
    "- List popular languages for Data Science.\n",
    "- Introduce key libraries in Data Science.\n",
    "- Create and format Markdown cells in Jupyter Notebook.\n",
    "- Demonstrate basic data manipulation techniques."
   ]
  },
  {
   "cell_type": "markdown",
   "id": "dd63a9aa-bf68-4e25-91cb-ba7971248eac",
   "metadata": {},
   "source": [
    "## Author\n",
    "\n",
    "Abdul Wadud Sawon\n"
   ]
  }
 ],
 "metadata": {
  "kernelspec": {
   "display_name": "Python",
   "language": "python",
   "name": "conda-env-python-py"
  },
  "language_info": {
   "codemirror_mode": {
    "name": "ipython",
    "version": 3
   },
   "file_extension": ".py",
   "mimetype": "text/x-python",
   "name": "python",
   "nbconvert_exporter": "python",
   "pygments_lexer": "ipython3",
   "version": "3.7.12"
  }
 },
 "nbformat": 4,
 "nbformat_minor": 5
}
